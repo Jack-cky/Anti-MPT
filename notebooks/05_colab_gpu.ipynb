{
 "cells": [
  {
   "cell_type": "code",
   "execution_count": null,
   "id": "e3748660-1306-4e4a-bafa-f074cf3f7262",
   "metadata": {},
   "outputs": [],
   "source": [
    "from google.colab import drive, runtime\n",
    "drive.mount(\"/content/drive\")"
   ]
  },
  {
   "cell_type": "code",
   "execution_count": null,
   "id": "48b3be4b-daf4-4ccf-8c90-50a66d1b432a",
   "metadata": {},
   "outputs": [],
   "source": [
    "%load_ext tensorboard\n",
    "%cd /content/drive/MyDrive/antimpt-dev\n",
    "%tensorboard --logdir antimpt/logs"
   ]
  },
  {
   "cell_type": "code",
   "execution_count": null,
   "id": "aafdabd0-8a20-4e7c-8482-6134d365395b",
   "metadata": {
    "scrolled": true
   },
   "outputs": [],
   "source": [
    "%%sh\n",
    "cd /content/drive/MyDrive/antimpt-dev\n",
    "nvidia-smi\n",
    "pip install finta gymnasium sb3-contrib stable-baselines3 -q\n",
    "python -m src.train DQN --n-envs 3 --iters 100 --steps 100000"
   ]
  },
  {
   "cell_type": "code",
   "execution_count": null,
   "id": "3ccde72c-2a39-4c67-a51d-c9b5d8542fcc",
   "metadata": {},
   "outputs": [],
   "source": [
    "runtime.unassign()"
   ]
  },
  {
   "cell_type": "code",
   "execution_count": null,
   "id": "af21d461-b765-4886-919b-0c2ebea2e9ab",
   "metadata": {},
   "outputs": [],
   "source": []
  }
 ],
 "metadata": {
  "kernelspec": {
   "display_name": "Python 3 (ipykernel)",
   "language": "python",
   "name": "python3"
  },
  "language_info": {
   "codemirror_mode": {
    "name": "ipython",
    "version": 3
   },
   "file_extension": ".py",
   "mimetype": "text/x-python",
   "name": "python",
   "nbconvert_exporter": "python",
   "pygments_lexer": "ipython3",
   "version": "3.10.16"
  }
 },
 "nbformat": 4,
 "nbformat_minor": 5
}
