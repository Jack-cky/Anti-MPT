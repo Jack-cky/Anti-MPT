{
 "cells": [
  {
   "cell_type": "code",
   "execution_count": null,
   "id": "a2c95281-1efe-4c22-8eba-e13f9d716db3",
   "metadata": {},
   "outputs": [],
   "source": [
    "import os\n",
    "import random\n",
    "from datetime import datetime, timedelta\n",
    "\n",
    "import matplotlib.pyplot as plt\n",
    "import numpy as np\n",
    "import pandas as pd\n",
    "from matplotlib.ticker import FuncFormatter\n",
    "from stable_baselines3.common.env_util import make_vec_env\n",
    "from stable_baselines3.common.vec_env import VecNormalize\n",
    "\n",
    "os.chdir(\"..\")\n",
    "from antimpt import AntiMPT, TradingFloorEnv\n",
    "from antimpt.utils.dataset import get_equity"
   ]
  },
  {
   "cell_type": "code",
   "execution_count": null,
   "id": "3bc12bbe-7ba4-45d6-a79d-2115b3c5d2f3",
   "metadata": {},
   "outputs": [],
   "source": [
    "%matplotlib inline\n",
    "\n",
    "random.seed(42)\n",
    "np.random.seed(42)"
   ]
  },
  {
   "cell_type": "markdown",
   "id": "dc933075-33c4-4999-832b-513ab0f8bdeb",
   "metadata": {},
   "source": [
    "#### Simulate Trades"
   ]
  },
  {
   "cell_type": "code",
   "execution_count": null,
   "id": "11ccfe3f-45bd-48a9-b620-7d0c5ecf017a",
   "metadata": {},
   "outputs": [],
   "source": [
    "agent = AntiMPT(\"PPO\", artefact=[\"PPO\", \"09\", \"30_000\"])\n",
    "equities = [get_equity(2021, 2024, \"WSM\")]\n",
    "\n",
    "equity = equities[0][[\"close\"]].reset_index(names=\"date\")\n",
    "equity[\"date\"] = equity[\"date\"].dt.strftime(\"%Y-%m-%d\")"
   ]
  },
  {
   "cell_type": "code",
   "execution_count": null,
   "id": "573fcbf3-3e89-4010-ac6a-ab4de76917c4",
   "metadata": {
    "scrolled": true
   },
   "outputs": [],
   "source": [
    "t0 = 0\n",
    "tn = len(equities[0]) - 1\n",
    "funds = 10_000\n",
    "histories = [{\n",
    "    \"date\": equity[\"date\"].iat[0],\n",
    "    \"action_taken\": \"HOLD\",\n",
    "    \"portfolio\": funds,\n",
    "}]\n",
    "\n",
    "while t0 < tn:\n",
    "    vec_env = make_vec_env(\n",
    "        TradingFloorEnv,\n",
    "        n_envs=1,\n",
    "        env_kwargs={\n",
    "            \"equities\": equities,\n",
    "            \"funds\": funds,\n",
    "            \"t0\": t0,\n",
    "            \"is_train\": False,\n",
    "            \"render_mode\": \"human\",\n",
    "        },\n",
    "        seed=42,\n",
    "    )\n",
    "\n",
    "    norm_vec_env = VecNormalize(vec_env, norm_obs=True, norm_reward=True)\n",
    "\n",
    "    obs = norm_vec_env.reset()\n",
    "    norm_vec_env.render()\n",
    "    done = False\n",
    "\n",
    "    while not done:\n",
    "        action, _ = agent.predict(obs)\n",
    "        obs, _, done, info = norm_vec_env.step(action)\n",
    "        norm_vec_env.render() if not done else None\n",
    "\n",
    "        histories.append(info[0])\n",
    "\n",
    "    t0 += info[0][\"timestep\"]\n",
    "    funds += info[0][\"portfolio\"] - funds"
   ]
  },
  {
   "cell_type": "code",
   "execution_count": null,
   "id": "1fb02e76-e0b4-4809-8dfd-932493f8110b",
   "metadata": {},
   "outputs": [],
   "source": [
    "results = pd.DataFrame(histories)\n",
    "results.iloc[1:].query(\"`TimeLimit.truncated`\")"
   ]
  },
  {
   "cell_type": "code",
   "execution_count": null,
   "id": "364f2314-c584-48ec-80a3-31b0c5bf47c7",
   "metadata": {},
   "outputs": [],
   "source": [
    "results = results[[\"date\", \"action_taken\", \"portfolio\"]]"
   ]
  },
  {
   "cell_type": "markdown",
   "id": "0b442d41-9b07-4e27-8559-3e08542a864b",
   "metadata": {},
   "source": [
    "#### Benchmark Market Data"
   ]
  },
  {
   "cell_type": "code",
   "execution_count": null,
   "id": "1cec58f3-9d6b-45be-a16a-c7d8c5553ecb",
   "metadata": {},
   "outputs": [],
   "source": [
    "risk_free = pd.read_parquet(\"./data/raw/bills/^IRX.parquet\")\n",
    "risk_free.columns = risk_free.columns.str.lower()\n",
    "risk_free.index = risk_free.index.strftime(\"%Y-%m-%d\")\n",
    "\n",
    "start, end = equity[\"date\"].iloc[[0,-1]].values\n",
    "dates, rates = [], []\n",
    "\n",
    "while start < end:\n",
    "    dates.append(start)\n",
    "    rates.append(1 + risk_free.at[start, \"close\"] / 100 / 4)\n",
    "    start = datetime.strptime(start, \"%Y-%m-%d\") + timedelta(days=13*7)\n",
    "\n",
    "    while start.strftime(\"%Y-%m-%d\") not in risk_free.index \\\n",
    "        and start.strftime(\"%Y-%m-%d\") < end:\n",
    "        start += timedelta(days=1)\n",
    "    start = start.strftime(\"%Y-%m-%d\")\n",
    "\n",
    "risk_free = pd.DataFrame({\n",
    "    \"date\": dates,\n",
    "    \"risk_free\": np.cumprod([10_000]+list(rates))[:-1],\n",
    "})"
   ]
  },
  {
   "cell_type": "code",
   "execution_count": null,
   "id": "0b42a4c4-bd4c-4cf4-9787-e8b28ed0d64a",
   "metadata": {},
   "outputs": [],
   "source": [
    "ref_idx = pd.read_parquet(\"./data/raw/indices/XHB.parquet\")\n",
    "ref_idx.columns = ref_idx.columns.str.lower()\n",
    "ref_idx[\"date\"] = ref_idx.index.strftime(\"%Y-%m-%d\")\n",
    "ref_idx.reset_index(drop=True, inplace=True)\n",
    "\n",
    "start = equity[\"date\"].iat[0]\n",
    "position = 10_000 // ref_idx.query(\"date == @start\")[\"close\"].values\n",
    "ref_idx[\"index\"] = ref_idx[\"close\"] * position\n",
    "\n",
    "ref_idx = ref_idx[[\"date\", \"index\"]]"
   ]
  },
  {
   "cell_type": "markdown",
   "id": "db6d5f97-063e-4193-a64d-5889689c7bfa",
   "metadata": {},
   "source": [
    "#### Visualise Performance"
   ]
  },
  {
   "cell_type": "code",
   "execution_count": null,
   "id": "b7f6a89b-cebe-4c12-bcbc-839766835547",
   "metadata": {},
   "outputs": [],
   "source": [
    "df = equity.merge(results, on=\"date\", how=\"left\") \\\n",
    "    .merge(risk_free, on=\"date\", how=\"left\") \\\n",
    "    .merge(ref_idx, on=\"date\", how=\"left\")\n",
    "\n",
    "df[\"date\"] = pd.to_datetime(df[\"date\"])\n",
    "df[\"action_taken\"] = df[\"action_taken\"].fillna(\"HOLD\")\n",
    "df[[\"portfolio\", \"risk_free\"]] = df[[\"portfolio\", \"risk_free\"]].ffill()"
   ]
  },
  {
   "cell_type": "code",
   "execution_count": null,
   "id": "06704971-d6c7-419b-bdd7-ca733b7e4a48",
   "metadata": {},
   "outputs": [],
   "source": [
    "date = df[\"date\"]\n",
    "action = df[\"action_taken\"]\n",
    "price = df[\"close\"]\n",
    "portfolio = df[\"portfolio\"]\n",
    "index = df[\"index\"]\n",
    "risk_free = df[\"risk_free\"]\n",
    "\n",
    "action_long = price.where(action == \"LONG\", None)\n",
    "action_short = price.where(action.isin([\"SHORT\", \"CLOSE\"]), None)"
   ]
  },
  {
   "cell_type": "code",
   "execution_count": null,
   "id": "3a42c3a7-5ce7-4703-bb9a-c1b200343a0d",
   "metadata": {},
   "outputs": [],
   "source": [
    "%matplotlib inline"
   ]
  },
  {
   "cell_type": "code",
   "execution_count": null,
   "id": "81292473-dace-4263-b0d6-b2c76b349bdf",
   "metadata": {},
   "outputs": [],
   "source": [
    "def thousands_formatter(x, pos):\n",
    "    return f\"{x/1_000:,.0f}\"\n",
    "\n",
    "\n",
    "fig, (ax1, ax2) = plt.subplots(2, 1, figsize=(12, 8))\n",
    "\n",
    "# trading actions\n",
    "ax1.plot(date, price, label=\"Price\", color=\"#63c5da\")\n",
    "ax1.scatter(\n",
    "    date, action_long, label=\"LONG\", color=\"#2e8b57\",\n",
    "    marker=\"^\", alpha=0.5,\n",
    ")\n",
    "ax1.scatter(\n",
    "    date, action_short, label=\"SHORT\", color=\"#ba110c\",\n",
    "    marker=\"v\", alpha=0.5,\n",
    ")\n",
    "\n",
    "ax1.set_title(\"Trading Actions\")\n",
    "ax1.set_xlabel(\"Date\")\n",
    "ax1.set_ylabel(\"USD (in thousands)\")\n",
    "\n",
    "ax1.legend()\n",
    "\n",
    "# overall returns\n",
    "ax2.plot(\n",
    "    date, portfolio, label=\"AntiMPT\",\n",
    "    color=[\"#ba110c\", \"#2e8b57\"][bool(portfolio.iat[-1] > index.iat[-1])],\n",
    ")\n",
    "ax2.plot(date, index, label=\"S&P Homebuilders ETF\", color=\"#b8b4b4\")\n",
    "ax2.plot(date, risk_free, label=\"13-Week Treasury Bill\", color=\"#f0b58d\")\n",
    "\n",
    "ax2.set_title(\"Return over Time\")\n",
    "ax2.set_xlabel(\"Date\")\n",
    "ax2.set_ylabel(\"USD (in thousands)\")\n",
    "\n",
    "ax2.yaxis.set_major_formatter(FuncFormatter(thousands_formatter))\n",
    "\n",
    "ax2.legend()\n",
    "\n",
    "plt.tight_layout()\n",
    "plt.show()"
   ]
  },
  {
   "cell_type": "code",
   "execution_count": null,
   "id": "f2c9b7a1-4e71-43e1-afe3-2bd6601f3800",
   "metadata": {},
   "outputs": [],
   "source": []
  }
 ],
 "metadata": {
  "kernelspec": {
   "display_name": "Python 3 (ipykernel)",
   "language": "python",
   "name": "python3"
  },
  "language_info": {
   "codemirror_mode": {
    "name": "ipython",
    "version": 3
   },
   "file_extension": ".py",
   "mimetype": "text/x-python",
   "name": "python",
   "nbconvert_exporter": "python",
   "pygments_lexer": "ipython3",
   "version": "3.10.16"
  }
 },
 "nbformat": 4,
 "nbformat_minor": 5
}
