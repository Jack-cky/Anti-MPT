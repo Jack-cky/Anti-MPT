{
 "cells": [
  {
   "cell_type": "code",
   "execution_count": null,
   "id": "2b83cbcb-b314-4a8d-882f-ce9aaf37a356",
   "metadata": {},
   "outputs": [],
   "source": [
    "import pandas as pd\n",
    "import yfinance as yf"
   ]
  },
  {
   "cell_type": "markdown",
   "id": "fa5abf6a-c5b3-418c-9bf8-3d0f0fabf696",
   "metadata": {},
   "source": [
    "#### Explore Potential Industry"
   ]
  },
  {
   "cell_type": "code",
   "execution_count": null,
   "id": "ae66d751-2ce4-409c-b1f8-c49a716962ca",
   "metadata": {},
   "outputs": [],
   "source": [
    "# !wget -P ../data/external/ https://pages.stern.nyu.edu/~adamodar/pc/datasets/betas.xls\n",
    "# !wget -P ../data/external/ https://pages.stern.nyu.edu/~adamodar/pc/datasets/indname.xls"
   ]
  },
  {
   "cell_type": "code",
   "execution_count": null,
   "id": "00f6d47b-3248-49c9-92bf-6aa4a1ef4176",
   "metadata": {
    "scrolled": true
   },
   "outputs": [],
   "source": [
    "df = pd.read_excel(\n",
    "    \"../data/external/betas.xls\",\n",
    "    sheet_name=\"Industry Averages\",\n",
    "    skiprows=9,\n",
    "    skipfooter=2,\n",
    ")\n",
    "\n",
    "df.columns = df.columns.str.lower().str.strip().str.replace(\" \", \"_\")\n",
    "\n",
    "df.sort_values(by=\"beta\", ascending=False, ignore_index=True, inplace=True)\n",
    "\n",
    "industry = df[\"industry_name\"][0]\n",
    "country = \"United States\""
   ]
  },
  {
   "cell_type": "code",
   "execution_count": null,
   "id": "e8e68e31-0dd0-4ba5-a1eb-69660454c15d",
   "metadata": {
    "scrolled": true
   },
   "outputs": [],
   "source": [
    "df = pd.read_excel(\n",
    "    \"../data/external/indname.xls\",\n",
    "    sheet_name=\"By Industry\",\n",
    ")\n",
    "\n",
    "df.columns = df.columns.str.lower().str.strip().str.replace(\" \", \"_\") \\\n",
    "    .str.replace(r\"[^a-zA-Z0-9_]\", \"_\", regex=True)\n",
    "\n",
    "tickers = df.query(\"industry_group == @industry and country == @country\") \\\n",
    "    [\"exchange_ticker\"].apply(lambda x: x.split(\":\")[-1]).values"
   ]
  },
  {
   "cell_type": "markdown",
   "id": "adbef301-4c5a-4793-bb38-a9b73b7503e7",
   "metadata": {},
   "source": [
    "#### Download Market Data"
   ]
  },
  {
   "cell_type": "code",
   "execution_count": null,
   "id": "80c5e12a-5f7d-45c5-b5b2-502307207f97",
   "metadata": {},
   "outputs": [],
   "source": [
    "cagrs = []\n",
    "\n",
    "for ticker in tickers:\n",
    "    equity = yf.Ticker(ticker)\n",
    "    df = equity.history(start=\"2010-01-01\")\n",
    "    df.to_parquet(f\"../data/raw/equities/{ticker}.parquet\")\n",
    "\n",
    "    v = df[df.index.year.isin(range(2010, 2024+1))][\"Close\"]\n",
    "    t = max(df.index.year[-1] - df.index.year[0], 1)\n",
    "\n",
    "    cagrs.append({\n",
    "        \"ticker\": ticker,\n",
    "        \"cagr\": (v.iat[-1] / v.iat[0]) ** (1 / t) - 1\n",
    "    })\n",
    "\n",
    "max(cagrs, key=lambda x: x[\"cagr\"])"
   ]
  },
  {
   "cell_type": "code",
   "execution_count": null,
   "id": "49e22e39-21f6-4f88-bf71-f44565a055eb",
   "metadata": {},
   "outputs": [],
   "source": [
    "ticker = \"^IRX\"\n",
    "bill = yf.Ticker(ticker)\n",
    "df = bill.history(start=\"2010-01-01\")\n",
    "df.to_parquet(f\"../data/raw/bills/{ticker}.parquet\")"
   ]
  },
  {
   "cell_type": "code",
   "execution_count": null,
   "id": "280e5a2e-93ef-4e7c-b128-6a8c568eadeb",
   "metadata": {},
   "outputs": [],
   "source": [
    "ticker = \"XHB\"\n",
    "index = yf.Ticker(ticker)\n",
    "df = index.history(start=\"2010-01-01\")\n",
    "df.to_parquet(f\"../data/raw/indices/{ticker}.parquet\")"
   ]
  },
  {
   "cell_type": "markdown",
   "id": "21c8ab9b-8173-45cf-8769-06eb69c262ac",
   "metadata": {},
   "source": [
    "#### Investigate Inconsistent Data"
   ]
  },
  {
   "cell_type": "code",
   "execution_count": null,
   "id": "33fa4c95-0d7b-407f-aea6-de751eefd03d",
   "metadata": {},
   "outputs": [],
   "source": [
    "df_0529 = pd.read_parquet(\"../data/yfinance/HD_20250529.parquet\") \\\n",
    "    .assign(version=\"0529\")\n",
    "df_0602 = pd.read_parquet(\"../data/yfinance/HD_20250602.parquet\") \\\n",
    "    .assign(version=\"0602\")\n",
    "df_0610 = pd.read_parquet(\"../data/yfinance/HD_20250610.parquet\") \\\n",
    "    .assign(version=\"0610\")\n",
    "\n",
    "df = yf.Ticker(\"HD\").history(start=\"2025-01-01\")\n",
    "df.query(\"Dividends != 0\").tail()"
   ]
  },
  {
   "cell_type": "code",
   "execution_count": null,
   "id": "f298d9d2-dd80-4f4f-a78f-c8e96d94c81b",
   "metadata": {},
   "outputs": [],
   "source": [
    "df_dup = pd.concat([df_0529, df_0602, df_0610]) \\\n",
    "    .drop_duplicates(subset=[\"Open\", \"High\", \"Low\", \"Close\"], keep=False)\n",
    "\n",
    "df_dup[\"date\"] = df_dup.index.strftime(\"%Y-%m-%d\")\n",
    "df_dup = df_dup.merge(\n",
    "    df_dup.groupby(\"date\", as_index=False).agg(cnt=(\"version\", \"count\"))\n",
    ")\n",
    "\n",
    "dates = df_dup.query(\"cnt == 3\")[\"date\"].values\n",
    "\n",
    "df_dup.query(\"date == @dates[-1]\")"
   ]
  },
  {
   "cell_type": "code",
   "execution_count": null,
   "id": "7bf948c4-67c0-476c-ab44-b239b1b2c55a",
   "metadata": {},
   "outputs": [],
   "source": [
    "df_dup = pd.concat([df_0529, df_0602, df_0610]) \\\n",
    "    .drop_duplicates(subset=[\"Open\", \"High\", \"Low\", \"Close\", \"Volume\"], keep=False)\n",
    "\n",
    "df_dup[\"date\"] = df_dup.index.strftime(\"%Y-%m-%d\")\n",
    "df_dup = df_dup.merge(\n",
    "    df_dup.groupby(\"date\", as_index=False).agg(cnt=(\"version\", \"count\"))\n",
    ")\n",
    "\n",
    "dates = df_dup.query(\"cnt == 3\")[\"date\"].values\n",
    "\n",
    "df_dup.query(\"date == @dates[-1]\")"
   ]
  },
  {
   "cell_type": "code",
   "execution_count": null,
   "id": "276e55ec-eacc-49ee-b50c-9d096d248d05",
   "metadata": {},
   "outputs": [],
   "source": []
  }
 ],
 "metadata": {
  "kernelspec": {
   "display_name": "Python 3 (ipykernel)",
   "language": "python",
   "name": "python3"
  },
  "language_info": {
   "codemirror_mode": {
    "name": "ipython",
    "version": 3
   },
   "file_extension": ".py",
   "mimetype": "text/x-python",
   "name": "python",
   "nbconvert_exporter": "python",
   "pygments_lexer": "ipython3",
   "version": "3.10.16"
  }
 },
 "nbformat": 4,
 "nbformat_minor": 5
}
