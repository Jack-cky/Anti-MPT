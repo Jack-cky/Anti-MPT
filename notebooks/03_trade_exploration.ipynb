{
 "cells": [
  {
   "cell_type": "code",
   "execution_count": null,
   "id": "a2c95281-1efe-4c22-8eba-e13f9d716db3",
   "metadata": {},
   "outputs": [],
   "source": [
    "import os\n",
    "import random\n",
    "from pathlib import Path\n",
    "\n",
    "import numpy as np\n",
    "from stable_baselines3.common.env_util import make_vec_env\n",
    "from stable_baselines3.common.vec_env import VecNormalize\n",
    "\n",
    "os.chdir(\"..\")\n",
    "from antimpt import AntiMPT, TradingFloorEnv\n",
    "from antimpt.utils.dataset import get_equity"
   ]
  },
  {
   "cell_type": "code",
   "execution_count": null,
   "id": "3bc12bbe-7ba4-45d6-a79d-2115b3c5d2f3",
   "metadata": {},
   "outputs": [],
   "source": [
    "random.seed(42)\n",
    "np.random.seed(42)"
   ]
  },
  {
   "cell_type": "markdown",
   "id": "2488dcd5-efd8-461e-97ab-9ee298716ff2",
   "metadata": {},
   "source": [
    "#### Create Environment"
   ]
  },
  {
   "cell_type": "code",
   "execution_count": null,
   "id": "0a150ca1-0beb-42f3-a7ba-a7c86e34e2bd",
   "metadata": {},
   "outputs": [],
   "source": [
    "equities = [\n",
    "    get_equity(2010, 2020, file.stem)\n",
    "    for file in Path(\"./data/raw/equities\").glob(\"*.parquet\")\n",
    "]\n",
    "\n",
    "vec_env = make_vec_env(\n",
    "    TradingFloorEnv,\n",
    "    n_envs=1,\n",
    "    env_kwargs={\"equities\": equities, \"render_mode\": \"human\"},\n",
    "    seed=42,\n",
    ")\n",
    "\n",
    "norm_vec_env = VecNormalize(vec_env, norm_obs=True, norm_reward=True)"
   ]
  },
  {
   "cell_type": "markdown",
   "id": "d5e65208-0448-46b4-836a-81113ced7593",
   "metadata": {},
   "source": [
    "#### Train Model"
   ]
  },
  {
   "cell_type": "code",
   "execution_count": null,
   "id": "e46e8e4c-54c9-48b1-8bc6-e47ecf6ae796",
   "metadata": {},
   "outputs": [],
   "source": [
    "agent = AntiMPT(\"PPO\", env=norm_vec_env)\n",
    "\n",
    "agent.train(iters=3, steps=10_000)"
   ]
  },
  {
   "cell_type": "code",
   "execution_count": null,
   "id": "4b25b2a9-3676-4199-9316-822564edf0e5",
   "metadata": {},
   "outputs": [],
   "source": []
  }
 ],
 "metadata": {
  "kernelspec": {
   "display_name": "Python 3 (ipykernel)",
   "language": "python",
   "name": "python3"
  },
  "language_info": {
   "codemirror_mode": {
    "name": "ipython",
    "version": 3
   },
   "file_extension": ".py",
   "mimetype": "text/x-python",
   "name": "python",
   "nbconvert_exporter": "python",
   "pygments_lexer": "ipython3",
   "version": "3.10.16"
  }
 },
 "nbformat": 4,
 "nbformat_minor": 5
}
